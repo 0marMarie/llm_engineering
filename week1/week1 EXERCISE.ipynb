{
 "cells": [
  {
   "cell_type": "markdown",
   "id": "fe12c203-e6a6-452c-a655-afb8a03a4ff5",
   "metadata": {},
   "source": [
    "# End of week 1 exercise\n",
    "\n",
    "To demonstrate your familiarity with OpenAI API, and also Ollama, build a tool that takes a technical question,  \n",
    "and responds with an explanation. This is a tool that you will be able to use yourself during the course!"
   ]
  },
  {
   "cell_type": "code",
   "execution_count": 45,
   "id": "c1070317-3ed9-4659-abe3-828943230e03",
   "metadata": {},
   "outputs": [],
   "source": [
    "# Imports\n",
    "import os\n",
    "import requests\n",
    "import json\n",
    "from typing import List\n",
    "from dotenv import load_dotenv\n",
    "from bs4 import BeautifulSoup\n",
    "from IPython.display import Markdown, display, update_display\n",
    "from openai import OpenAI\n",
    "import ollama"
   ]
  },
  {
   "cell_type": "code",
   "execution_count": 3,
   "id": "4a456906-915a-4bfd-bb9d-57e505c5093f",
   "metadata": {},
   "outputs": [],
   "source": [
    "# Constants\n",
    "MODEL_GPT = 'gpt-4o-mini'\n",
    "MODEL_LLAMA = 'llama3.2'"
   ]
  },
  {
   "cell_type": "code",
   "execution_count": 4,
   "id": "a8d7923c-5f28-4c30-8556-342d7c8497c1",
   "metadata": {},
   "outputs": [
    {
     "name": "stdout",
     "output_type": "stream",
     "text": [
      "API key looks good so far\n"
     ]
    }
   ],
   "source": [
    "# Set up environment\n",
    "load_dotenv(override=True)\n",
    "api_key = os.getenv('OPENAI_API_KEY')\n",
    "\n",
    "if api_key and api_key.startswith('sk-proj-') and len(api_key)>10:\n",
    "    print(\"API key looks good so far\")\n",
    "else:\n",
    "    print(\"There might be a problem with your API key? Please visit the troubleshooting notebook!\")\n",
    "\n",
    "openai = OpenAI()"
   ]
  },
  {
   "cell_type": "code",
   "execution_count": 35,
   "id": "3f0d0137-52b0-47a8-81a8-11a90a010798",
   "metadata": {},
   "outputs": [],
   "source": [
    "# here is the question; type over this to ask something new\n",
    "code = \"\"\"yield from {book.get(\"author\") for book in books if book.get(\"author\")}\"\"\""
   ]
  },
  {
   "cell_type": "code",
   "execution_count": 36,
   "id": "908a70dd-53ac-42fe-9fc9-6d73558cf385",
   "metadata": {},
   "outputs": [],
   "source": [
    "def get_system_prompt():\n",
    "    return f\"\"\"Act as an AI Code explainer assistant and help explain the provided code, your answer should be in Markdown.\n",
    "    \"\"\""
   ]
  },
  {
   "cell_type": "code",
   "execution_count": 37,
   "id": "fb1e5d89-e30c-4ff4-be93-7b2105b4799c",
   "metadata": {},
   "outputs": [],
   "source": [
    "def get_user_prompt(code):\n",
    "    user_prompt = \"\"\"Please explain what this code does and why: \\n\\n\"\"\"\n",
    "    user_prompt += f\"{code}\"\n",
    "    return user_prompt"
   ]
  },
  {
   "cell_type": "code",
   "execution_count": 40,
   "id": "60ce7000-a4a5-4cce-a261-e75ef45063b4",
   "metadata": {},
   "outputs": [],
   "source": [
    "# Get gpt-4o-mini to answer, with streaming\n",
    "def question_explainer(code):\n",
    "    \"\"\"\n",
    "    \"\"\"\n",
    "    stream = openai.chat.completions.create(\n",
    "        model=MODEL_GPT,\n",
    "        messages= [\n",
    "            {\"role\": \"system\", \"content\": get_system_prompt()},\n",
    "            {\"role\": \"user\", \"content\": get_user_prompt(code)}\n",
    "        ],\n",
    "        stream=True\n",
    "    )\n",
    "    \n",
    "    response = \"\"\n",
    "    display_handle = display(Markdown(\"\"), display_id=True)\n",
    "    for chunk in stream:\n",
    "        response += chunk.choices[0].delta.content or ''\n",
    "        response = response.replace(\"```\",\"\").replace(\"markdown\", \"\")\n",
    "        update_display(Markdown(response), display_id=display_handle.display_id)"
   ]
  },
  {
   "cell_type": "code",
   "execution_count": 41,
   "id": "8bf42d29-7763-4306-9267-4db7835e0f89",
   "metadata": {},
   "outputs": [
    {
     "data": {
      "text/markdown": [
       "Certainly! Let's break down the provided code snippet step by step.\n",
       "\n",
       "### Code Breakdown\n",
       "\n",
       "python\n",
       "yield from {book.get(\"author\") for book in books if book.get(\"author\")}\n",
       "\n",
       "\n",
       "#### Key Components:\n",
       "\n",
       "1. **`yield from`**: \n",
       "   - This is a Python feature that allows you to yield all the values from an iterable. It is often used within a generator function to delegate part of its operations to another generator or iterable. In this context, it means that the generator will yield each value produced by the iterable that follows.\n",
       "\n",
       "2. **Set Comprehension**:\n",
       "   - The expression is using a set comprehension: `{expression for item in iterable if condition}`. Here, it creates a set containing unique values derived from books that meet a specific condition.\n",
       "   - Specifically, `{book.get(\"author\") for book in books if book.get(\"author\")}` is the set comprehension in this case.\n",
       "\n",
       "3. **`book.get(\"author\")`**:\n",
       "   - This method is used to retrieve the value associated with the key `\"author\"` from each `book` dictionary. If the key does not exist, `None` is returned instead of raising an error.\n",
       "   - The code filters out any `book` dictionaries that do not have an `\"author\"` key or where the author value is `None`.\n",
       "\n",
       "4. **`if book.get(\"author\")`**:\n",
       "   - This condition checks if the author exists (i.e., it is not `None` or empty). Only those `book` entries that have a valid author will contribute to the final set.\n",
       "\n",
       "### What the Code Does\n",
       "\n",
       "- The entire line of code iterates through a collection, `books`, which is expected to be a list of dictionaries (with each dictionary representing a book).\n",
       "- For each `book`, it attempts to extract the `author`. If an `author` exists, it is added to a set to ensure uniqueness (duplicate authors will only appear once).\n",
       "- Finally, it yields all unique authors found in the entire `books` list.\n",
       "\n",
       "### Example Situation\n",
       "\n",
       "If `books` is defined as follows:\n",
       "\n",
       "python\n",
       "books = [\n",
       "    {\"title\": \"Book 1\", \"author\": \"Author A\"},\n",
       "    {\"title\": \"Book 2\", \"author\": \"Author B\"},\n",
       "    {\"title\": \"Book 3\", \"author\": \"Author A\"},  # Duplicate author should not appear again\n",
       "    {\"title\": \"Book 4\"},  # No author\n",
       "    {\"title\": \"Book 5\", \"author\": None}  # Author is None\n",
       "]\n",
       "\n",
       "\n",
       "### Result:\n",
       "\n",
       "Executing the line of code will yield:\n",
       "\n",
       "- `Author A`\n",
       "- `Author B`\n",
       "\n",
       "Since it correctly ignores books with no author and avoids duplicates.\n",
       "\n",
       "### Summary\n",
       "\n",
       "- **Purpose**: The code efficiently collects and yields all unique authors from a list of books, while safely handling missing or non-existent author values.\n",
       "- **Use Case**: This pattern can be particularly useful in scenarios where you want to compile a list of contributors without duplication, such as aggregating authors from a library or a database of publications."
      ],
      "text/plain": [
       "<IPython.core.display.Markdown object>"
      ]
     },
     "metadata": {},
     "output_type": "display_data"
    },
    {
     "data": {
      "text/plain": [
       "'Certainly! Let\\'s break down the provided code snippet step by step.\\n\\n### Code Breakdown\\n\\npython\\nyield from {book.get(\"author\") for book in books if book.get(\"author\")}\\n\\n\\n#### Key Components:\\n\\n1. **`yield from`**: \\n   - This is a Python feature that allows you to yield all the values from an iterable. It is often used within a generator function to delegate part of its operations to another generator or iterable. In this context, it means that the generator will yield each value produced by the iterable that follows.\\n\\n2. **Set Comprehension**:\\n   - The expression is using a set comprehension: `{expression for item in iterable if condition}`. Here, it creates a set containing unique values derived from books that meet a specific condition.\\n   - Specifically, `{book.get(\"author\") for book in books if book.get(\"author\")}` is the set comprehension in this case.\\n\\n3. **`book.get(\"author\")`**:\\n   - This method is used to retrieve the value associated with the key `\"author\"` from each `book` dictionary. If the key does not exist, `None` is returned instead of raising an error.\\n   - The code filters out any `book` dictionaries that do not have an `\"author\"` key or where the author value is `None`.\\n\\n4. **`if book.get(\"author\")`**:\\n   - This condition checks if the author exists (i.e., it is not `None` or empty). Only those `book` entries that have a valid author will contribute to the final set.\\n\\n### What the Code Does\\n\\n- The entire line of code iterates through a collection, `books`, which is expected to be a list of dictionaries (with each dictionary representing a book).\\n- For each `book`, it attempts to extract the `author`. If an `author` exists, it is added to a set to ensure uniqueness (duplicate authors will only appear once).\\n- Finally, it yields all unique authors found in the entire `books` list.\\n\\n### Example Situation\\n\\nIf `books` is defined as follows:\\n\\npython\\nbooks = [\\n    {\"title\": \"Book 1\", \"author\": \"Author A\"},\\n    {\"title\": \"Book 2\", \"author\": \"Author B\"},\\n    {\"title\": \"Book 3\", \"author\": \"Author A\"},  # Duplicate author should not appear again\\n    {\"title\": \"Book 4\"},  # No author\\n    {\"title\": \"Book 5\", \"author\": None}  # Author is None\\n]\\n\\n\\n### Result:\\n\\nExecuting the line of code will yield:\\n\\n- `Author A`\\n- `Author B`\\n\\nSince it correctly ignores books with no author and avoids duplicates.\\n\\n### Summary\\n\\n- **Purpose**: The code efficiently collects and yields all unique authors from a list of books, while safely handling missing or non-existent author values.\\n- **Use Case**: This pattern can be particularly useful in scenarios where you want to compile a list of contributors without duplication, such as aggregating authors from a library or a database of publications.'"
      ]
     },
     "execution_count": 41,
     "metadata": {},
     "output_type": "execute_result"
    }
   ],
   "source": [
    "question_explainer(code)"
   ]
  },
  {
   "cell_type": "code",
   "execution_count": 58,
   "id": "8f7c8ea8-4082-4ad0-8751-3301adcf6538",
   "metadata": {},
   "outputs": [],
   "source": [
    "# Get Llama 3.2 to answer\n",
    "def question_explainer_llama_version(code):\n",
    "    response = ollama.chat(\n",
    "        model=MODEL_LLAMA, \n",
    "        messages=[\n",
    "            {\"role\": \"system\", \"content\": get_system_prompt()},\n",
    "            {\"role\": \"user\", \"content\": get_user_prompt(code)}\n",
    "        ]\n",
    "    )\n",
    "    print(display(Markdown(response['message']['content'])))"
   ]
  },
  {
   "cell_type": "code",
   "execution_count": 59,
   "id": "afcf70d7-0584-48fb-aa58-4812ed51963d",
   "metadata": {},
   "outputs": [
    {
     "data": {
      "text/markdown": [
       "**Code Explanation**\n",
       "======================\n",
       "\n",
       "The given code is a Python expression that utilizes the `yield from` keyword and generator expressions to extract author names from a list of book dictionaries.\n",
       "\n",
       "```python\n",
       "yield from {book.get(\"author\") for book in books if book.get(\"author\")}\n",
       "```\n",
       "\n",
       "Here's a breakdown of what each part does:\n",
       "\n",
       "*   `{...}`: This is a dictionary comprehension, which creates a new dictionary containing key-value pairs.\n",
       "*   `for book in books`: This is the loop variable that iterates over the `books` list.\n",
       "*   `if book.get(\"author\")`: This condition filters out any book dictionaries that do not have an \"author\" key.\n",
       "*   `book.get(\"author\")`: For each book dictionary that passes the filter, this expression retrieves the value associated with the \"author\" key.\n",
       "*   `yield from {...}`: The `yield from` keyword is used to delegate the iteration over the generator expression to the caller.\n",
       "\n",
       "**Why it's used**\n",
       "----------------\n",
       "\n",
       "This code is likely used in a context where you want to extract author names from a list of book dictionaries, but only include authors who have a valid name associated with their book. By using `yield from`, we can simplify the iteration process and make the code more readable.\n",
       "\n",
       "Here's an example use case:\n",
       "\n",
       "```python\n",
       "books = [\n",
       "    {\"title\": \"Book 1\", \"author\": \"John Doe\"},\n",
       "    {\"title\": \"Book 2\", \"author\": None},\n",
       "    {\"title\": \"Book 3\", \"author\": \"Jane Smith\"}\n",
       "]\n",
       "\n",
       "for author in yield from {book.get(\"author\") for book in books if book.get(\"author\")}:\n",
       "    print(author)\n",
       "```\n",
       "\n",
       "This will output:\n",
       "\n",
       "```\n",
       "John Doe\n",
       "Jane Smith\n",
       "```"
      ],
      "text/plain": [
       "<IPython.core.display.Markdown object>"
      ]
     },
     "metadata": {},
     "output_type": "display_data"
    },
    {
     "name": "stdout",
     "output_type": "stream",
     "text": [
      "None\n"
     ]
    }
   ],
   "source": [
    "question_explainer_llama_version(code)"
   ]
  },
  {
   "cell_type": "code",
   "execution_count": null,
   "id": "9319e622-4eff-4b98-b168-4af5da701d88",
   "metadata": {},
   "outputs": [],
   "source": []
  }
 ],
 "metadata": {
  "kernelspec": {
   "display_name": "Python 3 (ipykernel)",
   "language": "python",
   "name": "python3"
  },
  "language_info": {
   "codemirror_mode": {
    "name": "ipython",
    "version": 3
   },
   "file_extension": ".py",
   "mimetype": "text/x-python",
   "name": "python",
   "nbconvert_exporter": "python",
   "pygments_lexer": "ipython3",
   "version": "3.11.12"
  }
 },
 "nbformat": 4,
 "nbformat_minor": 5
}
